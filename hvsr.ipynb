{
 "cells": [
  {
   "cell_type": "code",
   "execution_count": 1,
   "metadata": {},
   "outputs": [],
   "source": [
    "## ----Importing necessary stuff----\n",
    "import os  # Handling filesystems\n",
    "import warnings\n",
    " \n",
    "# Ignoring a silly warning from HVSRPY\n",
    "warnings.simplefilter(\"ignore\", UserWarning) \n",
    "warnings.simplefilter(\"ignore\", RuntimeWarning) \n",
    "\n",
    "import numpy as np  # Numerical array management\n",
    "import matplotlib.pyplot as plt  # Plot results\n",
    "from matplotlib.collections import LineCollection\n",
    "from matplotlib import spines\n",
    "from tqdm import tqdm  # To track progress of HVSR computations\n",
    "from scipy.signal import ShortTimeFFT\n",
    "from scipy.signal.windows import hann\n",
    "from scipy.integrate import romb, cumulative_simpson, simpson\n",
    "\n",
    "plt.rcParams['date.converter'] = 'concise'\n",
    "plt.style.use('seaborn-v0_8-paper')\n",
    "plt.rcParams['font.family'] = 'sans-serif'\n",
    "plt.rcParams['font.serif'] = 'Arial'  # switch to Helvetica if running on mac\n",
    "\n",
    "# from obspy.clients.fdsn.client import Client  # Locally stored data\n",
    "# from obspy.clients.filesystem.sds import Client\n",
    "from obspy import read, read_inventory, UTCDateTime  "
   ]
  },
  {
   "cell_type": "code",
   "execution_count": null,
   "metadata": {},
   "outputs": [],
   "source": []
  }
 ],
 "metadata": {
  "kernelspec": {
   "display_name": "hvsr",
   "language": "python",
   "name": "python3"
  },
  "language_info": {
   "codemirror_mode": {
    "name": "ipython",
    "version": 3
   },
   "file_extension": ".py",
   "mimetype": "text/x-python",
   "name": "python",
   "nbconvert_exporter": "python",
   "pygments_lexer": "ipython3",
   "version": "3.12.5"
  }
 },
 "nbformat": 4,
 "nbformat_minor": 2
}
